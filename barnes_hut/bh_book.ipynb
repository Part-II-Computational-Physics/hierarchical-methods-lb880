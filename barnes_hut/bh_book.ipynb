{
 "cells": [
  {
   "cell_type": "code",
   "execution_count": 1,
   "metadata": {},
   "outputs": [],
   "source": [
    "import numpy as np\n",
    "import matplotlib.pyplot as plt\n",
    "\n",
    "from bh import Particle, Cell, RootCell\n"
   ]
  },
  {
   "cell_type": "code",
   "execution_count": null,
   "metadata": {},
   "outputs": [],
   "source": [
    "fig,ax = plt.subplots()\n",
    "ax.set_aspect('equal')\n",
    "ax.set_xlim(0,1)\n",
    "ax.set_ylim(0,1)\n",
    "\n",
    "points = [source.centre for source in particles]\n",
    "X,Y = np.real(points), np.imag(points)\n",
    "\n",
    "ax.scatter(X,Y)\n",
    "\n",
    "import matplotlib.patches as patches\n",
    "\n",
    "def draw_rectangles(cell:Cell):\n",
    "    corner = cell.centre - cell.size*(0.5+0.5j)\n",
    "    p = patches.Rectangle((corner.real,corner.imag),cell.size,cell.size, fill=False, color='red')\n",
    "    ax.add_patch(p)\n",
    "    if cell.bit_children == 0:\n",
    "        return\n",
    "    else:\n",
    "        for child in cell.children:\n",
    "            if child:\n",
    "                draw_rectangles(child)\n",
    "\n",
    "draw_rectangles(root)\n",
    "\n",
    "plt.show()"
   ]
  }
 ],
 "metadata": {
  "kernelspec": {
   "display_name": "python-3.10.10",
   "language": "python",
   "name": "python3"
  },
  "language_info": {
   "codemirror_mode": {
    "name": "ipython",
    "version": 3
   },
   "file_extension": ".py",
   "mimetype": "text/x-python",
   "name": "python",
   "nbconvert_exporter": "python",
   "pygments_lexer": "ipython3",
   "version": "3.10.10"
  },
  "orig_nbformat": 4
 },
 "nbformat": 4,
 "nbformat_minor": 2
}
