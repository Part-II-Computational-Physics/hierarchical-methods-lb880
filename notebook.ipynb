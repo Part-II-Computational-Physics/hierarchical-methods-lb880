{
 "cells": [
  {
   "attachments": {},
   "cell_type": "markdown",
   "metadata": {},
   "source": [
    "Setup"
   ]
  },
  {
   "cell_type": "code",
   "execution_count": 1,
   "metadata": {
    "tags": [
     "hide-input"
    ]
   },
   "outputs": [],
   "source": [
    "import numpy as np\n",
    "import matplotlib\n",
    "\n",
    "matplotlib.use('TkAgg')\n",
    "\n",
    "from universe import Universe\n",
    "from animator import Animator"
   ]
  },
  {
   "cell_type": "code",
   "execution_count": 6,
   "metadata": {},
   "outputs": [],
   "source": [
    "num_bodies = 500\n",
    "size = 2\n",
    "G = 20\n",
    "dt = 0.01\n",
    "\n",
    "universe = Universe(num_bodies, size, dt, G, softening=0.1)\n",
    "\n",
    "universe.initialise_positions_velocities('circle')\n",
    "\n",
    "# animator = Animator(universe)\n",
    "# animator.create_figure_basic()\n",
    "# animator.produce_animation_with_momentum_energy()\n"
   ]
  },
  {
   "cell_type": "code",
   "execution_count": 21,
   "metadata": {},
   "outputs": [
    {
     "name": "stdout",
     "output_type": "stream",
     "text": [
      "2.44 µs ± 14.1 ns per loop (mean ± std. dev. of 7 runs, 100,000 loops each)\n",
      "63.9 µs ± 1.67 µs per loop (mean ± std. dev. of 7 runs, 10,000 loops each)\n",
      "1.32 s ± 44.9 ms per loop (mean ± std. dev. of 7 runs, 1 loop each)\n",
      "32.2 ms ± 116 µs per loop (mean ± std. dev. of 7 runs, 10 loops each)\n"
     ]
    },
    {
     "ename": "KeyboardInterrupt",
     "evalue": "",
     "output_type": "error",
     "traceback": [
      "\u001b[0;31m---------------------------------------------------------------------------\u001b[0m",
      "\u001b[0;31mKeyboardInterrupt\u001b[0m                         Traceback (most recent call last)",
      "Cell \u001b[0;32mIn[21], line 7\u001b[0m\n\u001b[1;32m      5\u001b[0m \u001b[39mfor\u001b[39;00m i, num_bodies \u001b[39min\u001b[39;00m \u001b[39menumerate\u001b[39m(num_bodies_array):\n\u001b[1;32m      6\u001b[0m     universe \u001b[39m=\u001b[39m Universe(num_bodies, size, dt, G, softening\u001b[39m=\u001b[39m\u001b[39m0.1\u001b[39m)\n\u001b[0;32m----> 7\u001b[0m     universe\u001b[39m.\u001b[39;49minitialise_positions_velocities(\u001b[39m'\u001b[39;49m\u001b[39mcircle\u001b[39;49m\u001b[39m'\u001b[39;49m)\n\u001b[1;32m      9\u001b[0m     time_for \u001b[39m=\u001b[39m get_ipython()\u001b[39m.\u001b[39mrun_line_magic(\u001b[39m'\u001b[39m\u001b[39mtimeit\u001b[39m\u001b[39m'\u001b[39m, \u001b[39m'\u001b[39m\u001b[39m-o universe.calculate_accelerations()\u001b[39m\u001b[39m'\u001b[39m)\n\u001b[1;32m     10\u001b[0m     time_np \u001b[39m=\u001b[39m get_ipython()\u001b[39m.\u001b[39mrun_line_magic(\u001b[39m'\u001b[39m\u001b[39mtimeit\u001b[39m\u001b[39m'\u001b[39m, \u001b[39m'\u001b[39m\u001b[39m-o universe.calculate_accelerations_np_naive()\u001b[39m\u001b[39m'\u001b[39m)\n",
      "File \u001b[0;32m~/repositories/computing-project-lb880/universe.py:60\u001b[0m, in \u001b[0;36mUniverse.initialise_positions_velocities\u001b[0;34m(self, setup)\u001b[0m\n\u001b[1;32m     58\u001b[0m \u001b[39mself\u001b[39m\u001b[39m.\u001b[39mcalculate_system_momentum()\n\u001b[1;32m     59\u001b[0m \u001b[39mself\u001b[39m\u001b[39m.\u001b[39mcalculate_system_kinetic_energy()\n\u001b[0;32m---> 60\u001b[0m \u001b[39mself\u001b[39;49m\u001b[39m.\u001b[39;49mcalculate_system_potential_energy()\n",
      "File \u001b[0;32m~/repositories/computing-project-lb880/universe.py:132\u001b[0m, in \u001b[0;36mUniverse.calculate_system_potential_energy\u001b[0;34m(self)\u001b[0m\n\u001b[1;32m    128\u001b[0m     \u001b[39mfor\u001b[39;00m j,position2 \u001b[39min\u001b[39;00m \u001b[39menumerate\u001b[39m(\u001b[39mself\u001b[39m\u001b[39m.\u001b[39mbody_x[i\u001b[39m+\u001b[39m\u001b[39m1\u001b[39m:], i\u001b[39m+\u001b[39m\u001b[39m1\u001b[39m):\n\u001b[1;32m    129\u001b[0m         potential \u001b[39m=\u001b[39m \u001b[39m-\u001b[39m \u001b[39mself\u001b[39m\u001b[39m.\u001b[39mG \u001b[39m*\u001b[39m \u001b[39mself\u001b[39m\u001b[39m.\u001b[39mbody_m[i] \u001b[39m*\u001b[39m \u001b[39mself\u001b[39m\u001b[39m.\u001b[39mbody_m[j] \u001b[39m/\u001b[39m \\\n\u001b[1;32m    130\u001b[0m                         np\u001b[39m.\u001b[39mlinalg\u001b[39m.\u001b[39mnorm(position1 \u001b[39m-\u001b[39m position2)\n\u001b[0;32m--> 132\u001b[0m         total_potential_energy \u001b[39m+\u001b[39m\u001b[39m=\u001b[39m potential\n\u001b[1;32m    135\u001b[0m \u001b[39m# body_x = self.body_x\u001b[39;00m\n\u001b[1;32m    136\u001b[0m \u001b[39m# body_m = self.body_m\u001b[39;00m\n\u001b[1;32m    137\u001b[0m \n\u001b[0;32m   (...)\u001b[0m\n\u001b[1;32m    145\u001b[0m \u001b[39m#     body_x = np.roll(body_x, -1, axis=0)\u001b[39;00m\n\u001b[1;32m    146\u001b[0m \u001b[39m#     body_m = np.roll(body_m, -1, axis=0)\u001b[39;00m\n\u001b[1;32m    148\u001b[0m \u001b[39mself\u001b[39m\u001b[39m.\u001b[39mpotential_energy\u001b[39m.\u001b[39mappend(total_potential_energy)\n",
      "\u001b[0;31mKeyboardInterrupt\u001b[0m: "
     ]
    }
   ],
   "source": [
    "num_bodies_array = np.arange(1,1200,400)\n",
    "times_for = []\n",
    "times_np = []\n",
    "\n",
    "for i, num_bodies in enumerate(num_bodies_array):\n",
    "    universe = Universe(num_bodies, size, dt, G, softening=0.1)\n",
    "    universe.initialise_positions_velocities('circle')\n",
    "\n",
    "    time_for = %timeit -o universe.calculate_accelerations()\n",
    "    time_np = %timeit -o universe.calculate_accelerations_np_naive()\n",
    "\n",
    "    times_for.append(time_for)\n",
    "    times_np.append(time_np)"
   ]
  },
  {
   "cell_type": "code",
   "execution_count": 22,
   "metadata": {},
   "outputs": [
    {
     "ename": "ValueError",
     "evalue": "'x' and 'y' must have the same size",
     "output_type": "error",
     "traceback": [
      "\u001b[0;31m---------------------------------------------------------------------------\u001b[0m",
      "\u001b[0;31mValueError\u001b[0m                                Traceback (most recent call last)",
      "Cell \u001b[0;32mIn[22], line 10\u001b[0m\n\u001b[1;32m      6\u001b[0m times_np_std \u001b[39m=\u001b[39m [time\u001b[39m.\u001b[39mstdev \u001b[39mfor\u001b[39;00m time \u001b[39min\u001b[39;00m times_np]\n\u001b[1;32m      8\u001b[0m fig, ax \u001b[39m=\u001b[39m plt\u001b[39m.\u001b[39msubplots()\n\u001b[0;32m---> 10\u001b[0m ax\u001b[39m.\u001b[39;49merrorbar(num_bodies_array, times_for_avg, yerr\u001b[39m=\u001b[39;49mtimes_for_std, fmt\u001b[39m=\u001b[39;49m\u001b[39m'\u001b[39;49m\u001b[39mx\u001b[39;49m\u001b[39m'\u001b[39;49m, capsize\u001b[39m=\u001b[39;49m\u001b[39m3\u001b[39;49m, label\u001b[39m=\u001b[39;49m\u001b[39m'\u001b[39;49m\u001b[39mFor\u001b[39;49m\u001b[39m'\u001b[39;49m)\n\u001b[1;32m     11\u001b[0m ax\u001b[39m.\u001b[39merrorbar(num_bodies_array, times_np_avg, yerr\u001b[39m=\u001b[39mtimes_np_std, fmt\u001b[39m=\u001b[39m\u001b[39m'\u001b[39m\u001b[39mx\u001b[39m\u001b[39m'\u001b[39m, capsize\u001b[39m=\u001b[39m\u001b[39m3\u001b[39m, label\u001b[39m=\u001b[39m\u001b[39m'\u001b[39m\u001b[39mNumpy\u001b[39m\u001b[39m'\u001b[39m)\n\u001b[1;32m     12\u001b[0m ax\u001b[39m.\u001b[39mplot(num_bodies_array, (num_bodies_array\u001b[39m*\u001b[39m\u001b[39m*\u001b[39m\u001b[39m1\u001b[39m) \u001b[39m*\u001b[39m \u001b[39m1e-4\u001b[39m)\n",
      "File \u001b[0;32m~/repositories/computing-project-lb880/.direnv/python-3.10.10/lib/python3.10/site-packages/matplotlib/__init__.py:1442\u001b[0m, in \u001b[0;36m_preprocess_data.<locals>.inner\u001b[0;34m(ax, data, *args, **kwargs)\u001b[0m\n\u001b[1;32m   1439\u001b[0m \u001b[39m@functools\u001b[39m\u001b[39m.\u001b[39mwraps(func)\n\u001b[1;32m   1440\u001b[0m \u001b[39mdef\u001b[39;00m \u001b[39minner\u001b[39m(ax, \u001b[39m*\u001b[39margs, data\u001b[39m=\u001b[39m\u001b[39mNone\u001b[39;00m, \u001b[39m*\u001b[39m\u001b[39m*\u001b[39mkwargs):\n\u001b[1;32m   1441\u001b[0m     \u001b[39mif\u001b[39;00m data \u001b[39mis\u001b[39;00m \u001b[39mNone\u001b[39;00m:\n\u001b[0;32m-> 1442\u001b[0m         \u001b[39mreturn\u001b[39;00m func(ax, \u001b[39m*\u001b[39;49m\u001b[39mmap\u001b[39;49m(sanitize_sequence, args), \u001b[39m*\u001b[39;49m\u001b[39m*\u001b[39;49mkwargs)\n\u001b[1;32m   1444\u001b[0m     bound \u001b[39m=\u001b[39m new_sig\u001b[39m.\u001b[39mbind(ax, \u001b[39m*\u001b[39margs, \u001b[39m*\u001b[39m\u001b[39m*\u001b[39mkwargs)\n\u001b[1;32m   1445\u001b[0m     auto_label \u001b[39m=\u001b[39m (bound\u001b[39m.\u001b[39marguments\u001b[39m.\u001b[39mget(label_namer)\n\u001b[1;32m   1446\u001b[0m                   \u001b[39mor\u001b[39;00m bound\u001b[39m.\u001b[39mkwargs\u001b[39m.\u001b[39mget(label_namer))\n",
      "File \u001b[0;32m~/repositories/computing-project-lb880/.direnv/python-3.10.10/lib/python3.10/site-packages/matplotlib/axes/_axes.py:3537\u001b[0m, in \u001b[0;36mAxes.errorbar\u001b[0;34m(self, x, y, yerr, xerr, fmt, ecolor, elinewidth, capsize, barsabove, lolims, uplims, xlolims, xuplims, errorevery, capthick, **kwargs)\u001b[0m\n\u001b[1;32m   3535\u001b[0m x, y \u001b[39m=\u001b[39m np\u001b[39m.\u001b[39matleast_1d(x, y)  \u001b[39m# Make sure all the args are iterable.\u001b[39;00m\n\u001b[1;32m   3536\u001b[0m \u001b[39mif\u001b[39;00m \u001b[39mlen\u001b[39m(x) \u001b[39m!=\u001b[39m \u001b[39mlen\u001b[39m(y):\n\u001b[0;32m-> 3537\u001b[0m     \u001b[39mraise\u001b[39;00m \u001b[39mValueError\u001b[39;00m(\u001b[39m\"\u001b[39m\u001b[39m'\u001b[39m\u001b[39mx\u001b[39m\u001b[39m'\u001b[39m\u001b[39m and \u001b[39m\u001b[39m'\u001b[39m\u001b[39my\u001b[39m\u001b[39m'\u001b[39m\u001b[39m must have the same size\u001b[39m\u001b[39m\"\u001b[39m)\n\u001b[1;32m   3539\u001b[0m everymask \u001b[39m=\u001b[39m \u001b[39mself\u001b[39m\u001b[39m.\u001b[39m_errorevery_to_mask(x, errorevery)\n\u001b[1;32m   3541\u001b[0m label \u001b[39m=\u001b[39m kwargs\u001b[39m.\u001b[39mpop(\u001b[39m\"\u001b[39m\u001b[39mlabel\u001b[39m\u001b[39m\"\u001b[39m, \u001b[39mNone\u001b[39;00m)\n",
      "\u001b[0;31mValueError\u001b[0m: 'x' and 'y' must have the same size"
     ]
    },
    {
     "ename": "",
     "evalue": "",
     "output_type": "error",
     "traceback": [
      "\u001b[1;31mThe Kernel crashed while executing code in the the current cell or a previous cell. Please review the code in the cell(s) to identify a possible cause of the failure. Click <a href='https://aka.ms/vscodeJupyterKernelCrash'>here</a> for more info. View Jupyter <a href='command:jupyter.viewOutput'>log</a> for further details."
     ]
    }
   ],
   "source": [
    "import matplotlib.pyplot as plt\n",
    "\n",
    "times_for_avg = [time.average for time in times_for]\n",
    "times_for_std = [time.stdev for time in times_for]\n",
    "times_np_avg = [time.average for time in times_np]\n",
    "times_np_std = [time.stdev for time in times_np]\n",
    "\n",
    "fig, ax = plt.subplots()\n",
    "\n",
    "ax.errorbar(num_bodies_array, times_for_avg, yerr=times_for_std, fmt='x', capsize=3, label='For')\n",
    "ax.errorbar(num_bodies_array, times_np_avg, yerr=times_np_std, fmt='x', capsize=3, label='Numpy')\n",
    "ax.plot(num_bodies_array, (num_bodies_array**1) * 1e-4)\n",
    "\n",
    "ax.set_yscale('log')\n",
    "ax.set_xscale('log')\n",
    "ax.set_xlabel(\"num bodies\")\n",
    "ax.set_ylabel(\"Runtime / s\")\n",
    "ax.set_title(\"Runtime for increasing N\")\n",
    "ax.legend()\n",
    "\n",
    "plt.show()"
   ]
  },
  {
   "cell_type": "code",
   "execution_count": 7,
   "metadata": {},
   "outputs": [
    {
     "name": "stdout",
     "output_type": "stream",
     "text": [
      "1.14 s ± 14.7 ms per loop (mean ± std. dev. of 7 runs, 1 loop each)\n",
      "24.9 ms ± 47.5 µs per loop (mean ± std. dev. of 7 runs, 10 loops each)\n"
     ]
    }
   ],
   "source": [
    "%timeit universe.calculate_accelerations()\n",
    "\n",
    "%timeit universe.calculate_accelerations_np_naive()"
   ]
  },
  {
   "cell_type": "code",
   "execution_count": 49,
   "metadata": {},
   "outputs": [
    {
     "name": "stdout",
     "output_type": "stream",
     "text": [
      "[[ 1.]\n",
      " [ 2.]\n",
      " [ 3.]\n",
      " [ 4.]\n",
      " [ 5.]\n",
      " [ 6.]\n",
      " [ 7.]\n",
      " [ 8.]\n",
      " [ 9.]\n",
      " [10.]]\n"
     ]
    },
    {
     "data": {
      "text/plain": [
       "array([3.])"
      ]
     },
     "execution_count": 49,
     "metadata": {},
     "output_type": "execute_result"
    }
   ],
   "source": [
    "body_x = universe.body_x\n",
    "body_m = np.linspace(1,10,10).reshape(-1,1)\n",
    "\n",
    "pos = body_x[0]\n",
    "r = pos - body_x[1:]\n",
    "mag_r = np.linalg.norm(r, axis=1).reshape((-1,1))\n",
    "dir_r = r / mag_r\n",
    "\n",
    "\n",
    "F = - (universe.G * dir_r) / (mag_r**2 + universe.softening**2)\n",
    "\n",
    "body_a_i = np.sum(F * body_m[1:], axis=0)\n",
    "body_a_i\n",
    "\n",
    "print(body_m)\n",
    "np.roll(body_m, -1)\n",
    "\n",
    "body_m[1] = 3\n",
    "body_m[1]"
   ]
  }
 ],
 "metadata": {
  "kernelspec": {
   "display_name": "python-3.10.10",
   "language": "python",
   "name": "python3"
  },
  "language_info": {
   "codemirror_mode": {
    "name": "ipython",
    "version": 3
   },
   "file_extension": ".py",
   "mimetype": "text/x-python",
   "name": "python",
   "nbconvert_exporter": "python",
   "pygments_lexer": "ipython3",
   "version": "3.10.10"
  },
  "orig_nbformat": 4
 },
 "nbformat": 4,
 "nbformat_minor": 2
}
