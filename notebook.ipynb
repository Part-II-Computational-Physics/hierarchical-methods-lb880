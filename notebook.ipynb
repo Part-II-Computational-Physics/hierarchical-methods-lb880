{
 "cells": [
  {
   "attachments": {},
   "cell_type": "markdown",
   "metadata": {},
   "source": [
    "Setup"
   ]
  },
  {
   "cell_type": "code",
   "execution_count": 1,
   "metadata": {
    "tags": [
     "hide-input"
    ]
   },
   "outputs": [],
   "source": [
    "import numpy as np\n",
    "import matplotlib\n",
    "\n",
    "matplotlib.use('TkAgg')\n",
    "\n",
    "from universe import Universe\n",
    "from animator import Animator"
   ]
  },
  {
   "cell_type": "code",
   "execution_count": 4,
   "metadata": {},
   "outputs": [
    {
     "name": "stderr",
     "output_type": "stream",
     "text": [
      "invalid command name \"5116380480_on_timer\"\n",
      "    while executing\n",
      "\"5116380480_on_timer\"\n",
      "    (\"after\" script)\n"
     ]
    }
   ],
   "source": [
    "num_bodies = 6\n",
    "size = 2\n",
    "G = 20\n",
    "dt = 0.01\n",
    "\n",
    "universe = Universe(num_bodies, size, dt, G, softening=0.1)\n",
    "\n",
    "universe.initialise_positions_velocities('circle')\n",
    "\n",
    "animator = Animator(universe)\n",
    "animator.create_figure_basic()\n",
    "animator.produce_animation_with_momentum_energy()\n"
   ]
  },
  {
   "cell_type": "code",
   "execution_count": 5,
   "metadata": {},
   "outputs": [
    {
     "name": "stdout",
     "output_type": "stream",
     "text": [
      "136 µs ± 1.5 µs per loop (mean ± std. dev. of 7 runs, 10,000 loops each)\n",
      "168 µs ± 2.12 µs per loop (mean ± std. dev. of 7 runs, 10,000 loops each)\n"
     ]
    }
   ],
   "source": [
    "%timeit universe.calculate_accelerations()\n",
    "\n",
    "%timeit universe.calculate_accelerations_np_naive()"
   ]
  }
 ],
 "metadata": {
  "kernelspec": {
   "display_name": "python-3.10.10",
   "language": "python",
   "name": "python3"
  },
  "language_info": {
   "codemirror_mode": {
    "name": "ipython",
    "version": 3
   },
   "file_extension": ".py",
   "mimetype": "text/x-python",
   "name": "python",
   "nbconvert_exporter": "python",
   "pygments_lexer": "ipython3",
   "version": "3.10.10"
  },
  "orig_nbformat": 4
 },
 "nbformat": 4,
 "nbformat_minor": 2
}
