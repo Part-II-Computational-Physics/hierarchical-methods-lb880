{
 "cells": [
  {
   "cell_type": "code",
   "execution_count": 3,
   "metadata": {},
   "outputs": [],
   "source": [
    "import numpy as np"
   ]
  },
  {
   "cell_type": "code",
   "execution_count": 30,
   "metadata": {},
   "outputs": [],
   "source": [
    "global a\n",
    "a = None"
   ]
  },
  {
   "cell_type": "code",
   "execution_count": 62,
   "metadata": {},
   "outputs": [],
   "source": [
    "def func():\n",
    "    global a\n",
    "    if a.all():\n",
    "        print('not')\n",
    "        a = np.arange(10)\n",
    "        print(a)"
   ]
  },
  {
   "cell_type": "code",
   "execution_count": 63,
   "metadata": {},
   "outputs": [
    {
     "name": "stdout",
     "output_type": "stream",
     "text": [
      "not\n",
      "[0 1 2 3 4 5 6 7 8 9]\n",
      "1.11 µs ± 27.3 ns per loop (mean ± std. dev. of 7 runs, 1,000,000 loops each)\n"
     ]
    }
   ],
   "source": [
    "global a\n",
    "a = np.empty(0)\n",
    "\n",
    "%timeit func()"
   ]
  },
  {
   "cell_type": "code",
   "execution_count": 79,
   "metadata": {},
   "outputs": [
    {
     "data": {
      "text/plain": [
       "False"
      ]
     },
     "execution_count": 79,
     "metadata": {},
     "output_type": "execute_result"
    }
   ],
   "source": [
    "a = np.zeros(5)\n",
    "# a[:] = 0\n",
    "bool(a.all())"
   ]
  },
  {
   "cell_type": "code",
   "execution_count": 4,
   "metadata": {},
   "outputs": [
    {
     "name": "stdout",
     "output_type": "stream",
     "text": [
      "1.73 µs ± 29.3 ns per loop (mean ± std. dev. of 7 runs, 1,000,000 loops each)\n",
      "1.72 µs ± 20.9 ns per loop (mean ± std. dev. of 7 runs, 1,000,000 loops each)\n"
     ]
    }
   ],
   "source": [
    "bits = 0\n",
    "\n",
    "def equals():\n",
    "    bits = np.random.randint(0,2)\n",
    "    if bits == 0:\n",
    "        pass\n",
    "    \n",
    "def notter():\n",
    "    bits = np.random.randint(0,2)\n",
    "    if not bits:\n",
    "        pass\n",
    "\n",
    "%timeit equals()\n",
    "%timeit notter()"
   ]
  }
 ],
 "metadata": {
  "kernelspec": {
   "display_name": "python-3.10.10",
   "language": "python",
   "name": "python3"
  },
  "language_info": {
   "codemirror_mode": {
    "name": "ipython",
    "version": 3
   },
   "file_extension": ".py",
   "mimetype": "text/x-python",
   "name": "python",
   "nbconvert_exporter": "python",
   "pygments_lexer": "ipython3",
   "version": "3.10.10"
  },
  "orig_nbformat": 4
 },
 "nbformat": 4,
 "nbformat_minor": 2
}
