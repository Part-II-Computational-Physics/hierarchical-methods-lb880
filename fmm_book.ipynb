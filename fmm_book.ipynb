{
 "cells": [
  {
   "cell_type": "code",
   "execution_count": 13,
   "metadata": {},
   "outputs": [],
   "source": [
    "import numpy as np\n",
    "import matplotlib.pyplot as plt\n",
    "\n",
    "%matplotlib widget\n",
    "\n",
    "import fmm"
   ]
  },
  {
   "cell_type": "code",
   "execution_count": 14,
   "metadata": {},
   "outputs": [
    {
     "data": {
      "text/plain": [
       "<module 'fmm' from '/Users/liambrown/repositories/computing-project-lb880/fmm.py'>"
      ]
     },
     "execution_count": 14,
     "metadata": {},
     "output_type": "execute_result"
    }
   ],
   "source": [
    "import importlib\n",
    "importlib.reload(fmm)"
   ]
  },
  {
   "cell_type": "code",
   "execution_count": 9,
   "metadata": {},
   "outputs": [],
   "source": [
    "num_particles = 4\n",
    "\n",
    "p=4\n",
    "max_level=10\n",
    "\n",
    "n_crit=2\n",
    "\n",
    "particles = [fmm.Particle() for _ in range(num_particles)]\n",
    "\n",
    "root = fmm.RootCell(0.5*(1+1j),1,p,max_level)\n",
    "\n",
    "root.do_fmm(particles, n_crit)\n"
   ]
  },
  {
   "cell_type": "code",
   "execution_count": 10,
   "metadata": {},
   "outputs": [],
   "source": [
    "fmm.direct_particle_potentials(particles)\n",
    "\n",
    "potentials = [particle.potential for particle in particles]\n",
    "direct_potentials = [particle.direct_potential for particle in particles]\n",
    "\n",
    "potential_err = list(np.array(potentials) - np.array(direct_potentials))\n"
   ]
  },
  {
   "cell_type": "code",
   "execution_count": 11,
   "metadata": {},
   "outputs": [
    {
     "name": "stdout",
     "output_type": "stream",
     "text": [
      "[(0.5982158148928335+0.6798111018728114j), (0.6297427066719102+0.8005589481099589j), (0.48715124315649605+0.20594481944665788j), (0.331828646924358+0.7201521810051846j)]\n",
      "Dir: [1.5530033525928555, -0.7266706265698635, 0.2011257897706768, -0.14882879127118576]\n",
      "FMM: [(1.2821977866330394+0j), (-1.0255920689327367+0j), (0.2011257897706768+0j), (-0.14882879127118576+0j)]\n",
      "Err: [(-0.2708055659598161+0j), (-0.2989214423628732+0j), 0j, 0j]\n"
     ]
    }
   ],
   "source": [
    "print([particle.centre for particle in particles])\n",
    "print('Dir:', direct_potentials)\n",
    "print('FMM:', potentials)\n",
    "print('Err:', potential_err)"
   ]
  },
  {
   "cell_type": "code",
   "execution_count": 12,
   "metadata": {},
   "outputs": [
    {
     "data": {
      "application/vnd.jupyter.widget-view+json": {
       "model_id": "dc22d1d1ab154ae68c57225c33ecf3e1",
       "version_major": 2,
       "version_minor": 0
      },
      "image/png": "[encoded data removed]",
      "text/html": [
       "\n",
       "            <div style=\"display: inline-block;\">\n",
       "                <div class=\"jupyter-widgets widget-label\" style=\"text-align: center;\">\n",
       "                    Figure\n",
       "                </div>\n",
       "                <img src='data:image/png;base64,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' width=640.0/>\n",
       "            </div>\n",
       "        "
      ],
      "text/plain": [
       "Canvas(toolbar=Toolbar(toolitems=[('Home', 'Reset original view', 'home', 'home'), ('Back', 'Back to previous …"
      ]
     },
     "metadata": {},
     "output_type": "display_data"
    }
   ],
   "source": [
    "fmm.plot(root)"
   ]
  },
  {
   "cell_type": "code",
   "execution_count": null,
   "metadata": {},
   "outputs": [],
   "source": [
    "for cell in root.cells[1:]:\n",
    "    print(cell)\n",
    "    print('\\t', cell.multipole, cell.local)\n",
    "\n",
    "print()\n",
    "\n",
    "for particle in particles:\n",
    "    print(particle.potential)"
   ]
  },
  {
   "cell_type": "code",
   "execution_count": null,
   "metadata": {},
   "outputs": [],
   "source": [
    "# particles = []\n",
    "# particles.append(Particle(1, 0.25*(1+1j)))\n",
    "# particles.append(Particle(2, 0.25*(3+1j)))\n",
    "# particles.append(Particle(-2, 0.25*(1+3j)))\n",
    "# particles.append(Particle(-3, 0.25*(3+3j)))"
   ]
  },
  {
   "cell_type": "code",
   "execution_count": null,
   "metadata": {},
   "outputs": [],
   "source": [
    "for cell in cells:\n",
    "    cell.multipole = np.zeros(p,dtype=complex)\n",
    "\n",
    "root._calculate_multipole()\n",
    "direct = root.multipole\n",
    "\n",
    "root.multipole = np.zeros(p, dtype=complex)\n",
    "\n",
    "for cell in reversed(cells):\n",
    "    cell.get_multipole()\n",
    "M2M = root.multipole\n",
    "\n",
    "err = (M2M - direct)/abs(direct)\n",
    "print(direct)\n",
    "print(M2M)\n",
    "print(err)\n",
    "np.sum(abs(err))"
   ]
  },
  {
   "cell_type": "code",
   "execution_count": null,
   "metadata": {},
   "outputs": [],
   "source": [
    "\"\"\"Shows numpy method is equivalent to explicit\"\"\"\n",
    "\n",
    "z0 = -1+2j\n",
    "precision = 3\n",
    "\n",
    "multipole_for = np.zeros(precision, dtype=complex)\n",
    "multipole_np = np.zeros(precision, dtype=complex)\n",
    "\n",
    "child_multipole_real = np.random.random(precision)\n",
    "child_multipole_imag = np.random.random(precision)\n",
    "child_multipole = child_multipole_real + 1j*child_multipole_imag\n",
    "child_multipole[0] = child_multipole[0].real\n",
    "\n",
    "multipole_for[0] += child_multipole[0]\n",
    "multipole_np[0] += child_multipole[0]\n",
    "\n",
    "for l in range(1, precision):\n",
    "    bl = - child_multipole[0] * z0**l / l\n",
    "    for k in range(1,l+1):\n",
    "        bl += child_multipole[k] * z0**(l-k) * sp.special.binom(l-1,k-1)\n",
    "    multipole_for[l] += bl\n",
    "\n",
    "    multipole_np[l] += \\\n",
    "    -(child_multipole[0] * z0**l / l) \\\n",
    "        + np.sum(child_multipole[1:l+1] \\\n",
    "                    * z0**(l-np.arange(1,l+1,1)) \\\n",
    "                    * sp.special.binom(l-1, np.arange(0,l,1)))\n",
    "\n",
    "    \n",
    "print(multipole_for)\n",
    "print(multipole_np)"
   ]
  }
 ],
 "metadata": {
  "kernelspec": {
   "display_name": "python-3.10.10",
   "language": "python",
   "name": "python3"
  },
  "language_info": {
   "codemirror_mode": {
    "name": "ipython",
    "version": 3
   },
   "file_extension": ".py",
   "mimetype": "text/x-python",
   "name": "python",
   "nbconvert_exporter": "python",
   "pygments_lexer": "ipython3",
   "version": "3.10.10"
  },
  "orig_nbformat": 4
 },
 "nbformat": 4,
 "nbformat_minor": 2
}
