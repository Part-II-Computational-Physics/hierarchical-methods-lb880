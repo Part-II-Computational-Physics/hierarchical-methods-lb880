{
 "cells": [
  {
   "cell_type": "code",
   "execution_count": 1,
   "metadata": {},
   "outputs": [],
   "source": [
    "import numpy as np\n",
    "import scipy as sp\n",
    "\n",
    "from typing import List, Set, Tuple"
   ]
  },
  {
   "attachments": {},
   "cell_type": "markdown",
   "metadata": {},
   "source": [
    "Testing out a new way to index every cell in the multiple level arrays\n",
    "\n",
    "Expect quadrants to be indexed as 0123 from bottom left, to bottom right, to top left, to top right\n",
    "(Hence to the output of the matricies in pure number form are actually x down, y right)"
   ]
  },
  {
   "attachments": {},
   "cell_type": "markdown",
   "metadata": {},
   "source": [
    "# Index Matricies\n",
    "\n",
    "Functions to get:\n",
    "* Children\n",
    "* Parent\n",
    "* Nearest Neighbour\n",
    "* Interaction List\n",
    "For a given set of coordinates in a given level\n",
    "\n",
    "Also generator function for a list of index matricies to test out on."
   ]
  },
  {
   "cell_type": "code",
   "execution_count": 2,
   "metadata": {},
   "outputs": [],
   "source": [
    "def create_index_matricies(max_level:int):\n",
    "    max_level = 3\n",
    "\n",
    "    return [np.arange(4**l).reshape((2**l, 2**l)).transpose() for l in range(max_level+1)]\n",
    "\n",
    "\n",
    "def get_children(parent_coords:Tuple[int]) -> List[Tuple[int]]:\n",
    "    x, y = parent_coords\n",
    "    return [\n",
    "        (x*2, y*2),\n",
    "        (x*2+1, y*2),\n",
    "        (x*2, y*2+1),\n",
    "        (x*2+1, y*2+1)\n",
    "    ]\n",
    "\n",
    "def parent(child_coords:Tuple[int]) -> Tuple[int]:\n",
    "    return (child_coords[0]//2, child_coords[1]//2)\n",
    "\n",
    "\n",
    "def nearest_neighbours(coords:Tuple[int], level:int) -> Set[Tuple[int]]:\n",
    "    if level == 0:\n",
    "        return set()\n",
    "\n",
    "    x,y = coords\n",
    "    max_coord = 2**level - 1\n",
    "    neighbours = set()\n",
    "\n",
    "    # middle row x_n = x\n",
    "    if y != 0:\n",
    "        neighbours.add((x,y-1))\n",
    "    if y != max_coord:\n",
    "        neighbours.add((x,y+1))\n",
    "\n",
    "    # left row x_n = x-1\n",
    "    if x !=0:\n",
    "        neighbours.add((x-1,y))\n",
    "        if y != 0:\n",
    "            neighbours.add((x-1,y-1))\n",
    "        if y != max_coord:\n",
    "            neighbours.add((x-1,y+1))\n",
    "\n",
    "    # right row x_n = x+1\n",
    "    if x != max_coord:\n",
    "        neighbours.add((x+1,y))\n",
    "        if y != 0:\n",
    "            neighbours.add((x+1,y-1))\n",
    "        if y != max_coord:\n",
    "            neighbours.add((x+1,y+1))\n",
    "    \n",
    "    return neighbours\n",
    "\n",
    "def interaction_list(cell_coords:Tuple[int], level:int) -> Set[Tuple[int]]:\n",
    "    if level <= 1:\n",
    "        return set()\n",
    "    \n",
    "    own_neighbours = nearest_neighbours(cell_coords, level)\n",
    "    parent_neighbours = nearest_neighbours(parent(cell_coords), level-1)\n",
    "    all_possible = set()\n",
    "    for p_n in parent_neighbours:\n",
    "        all_possible.update(get_children(p_n))\n",
    "\n",
    "    return all_possible - own_neighbours"
   ]
  },
  {
   "cell_type": "code",
   "execution_count": 3,
   "metadata": {},
   "outputs": [],
   "source": [
    "max_level = 3\n",
    "\n",
    "index_matricies = create_index_matricies(max_level)"
   ]
  },
  {
   "cell_type": "code",
   "execution_count": 4,
   "metadata": {},
   "outputs": [
    {
     "name": "stdout",
     "output_type": "stream",
     "text": [
      "1\n",
      "{3, 7, 8, 9, 10, 11, 12, 13, 14, 15}\n"
     ]
    },
    {
     "data": {
      "text/plain": [
       "[array([[0]]),\n",
       " array([[2, 3],\n",
       "        [0, 1]]),\n",
       " array([[12, 13, 14, 15],\n",
       "        [ 8,  9, 10, 11],\n",
       "        [ 4,  5,  6,  7],\n",
       "        [ 0,  1,  2,  3]]),\n",
       " array([[56, 57, 58, 59, 60, 61, 62, 63],\n",
       "        [48, 49, 50, 51, 52, 53, 54, 55],\n",
       "        [40, 41, 42, 43, 44, 45, 46, 47],\n",
       "        [32, 33, 34, 35, 36, 37, 38, 39],\n",
       "        [24, 25, 26, 27, 28, 29, 30, 31],\n",
       "        [16, 17, 18, 19, 20, 21, 22, 23],\n",
       "        [ 8,  9, 10, 11, 12, 13, 14, 15],\n",
       "        [ 0,  1,  2,  3,  4,  5,  6,  7]])]"
      ]
     },
     "execution_count": 4,
     "metadata": {},
     "output_type": "execute_result"
    }
   ],
   "source": [
    "cell = (1,0)\n",
    "print(index_matricies[2][cell])\n",
    "print({index_matricies[2][interactor] for interactor in interaction_list(cell,2)})\n",
    "\n",
    "# weirdness is to output as expected, ie in xy coordinates\n",
    "# [matrix for matrix in level_matricies]\n",
    "[np.flip(np.transpose(matrix), 0) for matrix in index_matricies]"
   ]
  },
  {
   "attachments": {},
   "cell_type": "markdown",
   "metadata": {},
   "source": [
    "# Actual FMM\n",
    "\n",
    "Create list of all the matricies of the various multipole and local expansions\n",
    "These will be 3D matricies with dimensions of $(2^l, 2^l, 2p)$ where $l$ is the level and $p$ is the global precision for each expansion"
   ]
  },
  {
   "cell_type": "code",
   "execution_count": 5,
   "metadata": {},
   "outputs": [],
   "source": [
    "from fmm import Particle"
   ]
  },
  {
   "cell_type": "code",
   "execution_count": 6,
   "metadata": {},
   "outputs": [],
   "source": [
    "def create_expansion_matricies(max_level:int, precision:int):\n",
    "    \"\"\"Returns a list of matricies for the expansion coefficients to be placed into\n",
    "    \n",
    "    For each 'cell' the first value also stores the complex centre of that cell\n",
    "    \"\"\"\n",
    "\n",
    "    expansion_matricies = [np.zeros((2**l,2**l,2*precision+1), dtype=complex) for l in range(max_level+1)]\n",
    "    for l, matrix in enumerate(expansion_matricies):\n",
    "        first_val = 1/(2**(l+1))\n",
    "        # stop of 1 as this is the so called max value, but will never appear\n",
    "        vals = np.arange(first_val,1,2*first_val)\n",
    "        X,Y = np.meshgrid(vals, vals, indexing='ij')\n",
    "        matrix[:,:,0] = X + 1j*Y\n",
    "    \n",
    "    return expansion_matricies\n",
    "\n",
    "def get_particle_cell(particle:Particle, level:int) -> Tuple[int]:\n",
    "    return (\n",
    "        int(particle.centre.real * 2**level),\n",
    "        int(particle.centre.imag * 2**level)\n",
    "    )"
   ]
  },
  {
   "cell_type": "code",
   "execution_count": 12,
   "metadata": {},
   "outputs": [],
   "source": [
    "def calculate_multipole(particle:Particle, precision:int, level:int, matrix) -> None:\n",
    "    \"\"\"Update the relevant cell in given level with multipole due to particle\n",
    "    \n",
    "    Parameters\n",
    "    ----------\n",
    "    particle : Particle\n",
    "        particle whose effect to add\n",
    "    precision : int\n",
    "        precision in multipole expansion\n",
    "    level : int\n",
    "        the level at which to add the particle's effect\n",
    "    matrix : NDArray\n",
    "        the full matrix for the relevant level\n",
    "    \"\"\"\n",
    "\n",
    "    cell = get_particle_cell(particle, level)\n",
    "    matrix[cell][1] = particle.charge\n",
    "    k = np.arange(1,precision,1)\n",
    "    matrix[cell][2:precision+1] += -particle.charge * (particle.centre - matrix[cell[0],cell[1],0])**k / k\n",
    "\n",
    "def cell_M2M(cell:Tuple[int], child:Tuple[int], precision:int, matrix, children_matrix):\n",
    "    \"\"\"M2M from children for a single cell\"\"\"\n",
    "\n",
    "    child_multipole = children_matrix[child][1:precision+1]\n",
    "\n",
    "    matrix[cell][1] += child_multipole[0]\n",
    "\n",
    "    z0 = children_matrix[child][0] - matrix[cell][0]\n",
    "\n",
    "    for l in range(1,precision):\n",
    "        k = np.arange(1,l+1)\n",
    "        matrix[cell][l+1] += -(child_multipole[0] * z0**l / l) \\\n",
    "            + np.sum(child_multipole[1:l+1] \\\n",
    "                        * z0**(l-k) * sp.special.binom(l-1,k-1))\n",
    "\n",
    "def level_M2M(precision:int, level:int, matrix, children_matrix) -> None:\n",
    "    \"\"\"Perform M2M on a given level due to the multipoles in the child level\"\"\"\n",
    "    # Can definitely optimise the way this is done\n",
    "    for x in range(2**level):\n",
    "        for y in range(2**level):\n",
    "            for child in get_children((x,y)):\n",
    "                cell_M2M((x,y),child,precision,matrix,children_matrix)\n",
    "\n",
    "def cell_M2L(cell:Tuple[int], interactor:Tuple[int], precision:int, matrix) -> None:\n",
    "    \"\"\"Local expansion of a cell due to interactor\"\"\"\n",
    "\n",
    "    z0 = matrix[interactor][0] - matrix[cell][0] # local expansion 'about origin' (so about cell)\n",
    "\n",
    "    minus_and_plus = np.empty(precision-1)\n",
    "    minus_and_plus[::2] = -1\n",
    "    minus_and_plus[1::2] = 1\n",
    "\n",
    "    k_vals = np.arange(1, precision)\n",
    "    l_vals = np.arange(1, precision)\n",
    "\n",
    "    interactor_multipole = matrix[interactor][1:precision+1]\n",
    "\n",
    "    minus_bk_over_z0k = minus_and_plus * interactor_multipole[1:] / z0**k_vals\n",
    "\n",
    "    matrix[cell][precision+1] += interactor_multipole[0] * np.log(-z0) + np.sum(minus_bk_over_z0k)\n",
    "    matrix[cell][precision+2:] += interactor_multipole[0] / (l_vals * z0**l_vals) \\\n",
    "                    + (1/z0**l_vals) * np.sum(minus_bk_over_z0k * sp.special.binom(l_vals + k_vals - 1, k_vals-1))\n",
    "    \n",
    "def level_M2L(precision:int, level:int, matrix) -> None:\n",
    "    \"\"\"Do M2L for a given level\"\"\"\n",
    "\n",
    "    for x in range(2**level):\n",
    "        for y in range(2**level):\n",
    "            for interactor in interaction_list((x,y),level):\n",
    "                cell_M2L((x,y),interactor,precision,matrix)\n",
    "\n",
    "def cell_L2L(cell:Tuple[int], child:Tuple[int], precision:int, matrix, child_matrix) -> None:\n",
    "    \"\"\"Distribute local expansion to child cells\"\"\"\n",
    "    \n",
    "    z0 = child_matrix[child][0] - matrix[cell][0]\n",
    "\n",
    "    k_vals = np.arange(1,precision)\n",
    "    \n",
    "    cell_local = matrix[cell][precision+2:] # does not include l=0 of cell's local\n",
    "\n",
    "    for l in range(precision):\n",
    "        child_matrix[child][precision+1+l] += np.sum(cell_local * sp.special.binom(k_vals,l) * z0**(k_vals-l))\n",
    "\n",
    "def level_L2L(precision:int, level:int, matrix, child_matrix) -> None:\n",
    "    \"\"\"Distribute all locals in a given level to children level\"\"\"\n",
    "\n",
    "    for x in range(2**level):\n",
    "        for y in range(2**level):\n",
    "            for child in get_children((x,y)):\n",
    "                cell_L2L((x,y), child, precision, matrix, child_matrix)\n"
   ]
  },
  {
   "cell_type": "code",
   "execution_count": null,
   "metadata": {},
   "outputs": [],
   "source": [
    "def insert_particles(finest_matrix, max_level, particles:List[Particle], precision:int):\n",
    "\n",
    "    for particle in particles:\n",
    "        calculate_multipole(particle, precision, max_level, finest_matrix)\n",
    "\n",
    "def upward_pass(precision:int, max_level:int, expansion_matricies):\n",
    "    for level in range(max_level-1, -1, -1):\n",
    "        level_M2M(precision, level, expansion_matricies[level], expansion_matricies[level+1])\n",
    "\n",
    "def downward_pass(precision:int, max_level, expansion_matricies):\n",
    "    \"\"\"Perform downward pass\"\"\""
   ]
  },
  {
   "cell_type": "code",
   "execution_count": 13,
   "metadata": {},
   "outputs": [
    {
     "data": {
      "text/plain": [
       "array([-2.+0.j        ,  0.+2.j        ,  0.+0.125j     ,  0.+0.08333333j])"
      ]
     },
     "execution_count": 13,
     "metadata": {},
     "output_type": "execute_result"
    }
   ],
   "source": [
    "max_level = 1\n",
    "precision = 4\n",
    "\n",
    "expansion_matricies = create_expansion_matricies(max_level, precision)\n",
    "\n",
    "particles = [\n",
    "    Particle(1, 0.25*(1+1j)),\n",
    "    Particle(2, 0.25*(3+1j)),\n",
    "    Particle(-3, 0.25*(3+3j)),\n",
    "    Particle(-2, 0.25*(1+3j))\n",
    "]\n",
    "\n",
    "for particle in particles:\n",
    "    calculate_multipole(particle, precision, max_level, expansion_matricies[max_level])\n",
    "\n",
    "level_M2M(precision, 0, expansion_matricies[0], expansion_matricies[1])\n",
    "\n",
    "expansion_matricies[0][(0,0)][1:precision+1]"
   ]
  },
  {
   "cell_type": "code",
   "execution_count": 45,
   "metadata": {},
   "outputs": [
    {
     "data": {
      "text/plain": [
       "array([0.+0.j, 0.+0.j, 0.+0.j])"
      ]
     },
     "execution_count": 45,
     "metadata": {},
     "output_type": "execute_result"
    }
   ],
   "source": [
    "expansion_matricies = create_expansion_matricies(3,4)\n",
    "centres = [matrix[:,:,0] for matrix in expansion_matricies]\n",
    "\n",
    "cell = (0,1)\n",
    "expansion_matricies[1][cell[0], cell[1], 2:5]\n",
    "\n",
    "[np.flip(np.transpose(matrix), 0) for matrix in centres]"
   ]
  }
 ],
 "metadata": {
  "kernelspec": {
   "display_name": "python-3.10.10",
   "language": "python",
   "name": "python3"
  },
  "language_info": {
   "codemirror_mode": {
    "name": "ipython",
    "version": 3
   },
   "file_extension": ".py",
   "mimetype": "text/x-python",
   "name": "python",
   "nbconvert_exporter": "python",
   "pygments_lexer": "ipython3",
   "version": "3.10.10"
  },
  "orig_nbformat": 4
 },
 "nbformat": 4,
 "nbformat_minor": 2
}
