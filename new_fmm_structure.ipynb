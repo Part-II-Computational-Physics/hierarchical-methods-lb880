{
 "cells": [
  {
   "cell_type": "code",
   "execution_count": 1,
   "metadata": {},
   "outputs": [],
   "source": [
    "import numpy as np\n",
    "import scipy as sp\n",
    "\n",
    "from typing import List, Set, Tuple"
   ]
  },
  {
   "attachments": {},
   "cell_type": "markdown",
   "metadata": {},
   "source": [
    "Testing out a new way to index every cell in the multiple level arrays\n",
    "\n",
    "Expect quadrants to be indexed as 0123 from bottom left, to bottom right, to top left, to top right\n",
    "(Hence to the output of the matricies in pure number form are actually x down, y right)"
   ]
  },
  {
   "attachments": {},
   "cell_type": "markdown",
   "metadata": {},
   "source": [
    "# Index Matricies\n",
    "\n",
    "Functions to get:\n",
    "* Children\n",
    "* Parent\n",
    "* Nearest Neighbour\n",
    "* Interaction List\n",
    "For a given set of coordinates in a given level\n",
    "\n",
    "Also generator function for a list of index matricies to test out on."
   ]
  },
  {
   "cell_type": "code",
   "execution_count": 2,
   "metadata": {},
   "outputs": [],
   "source": [
    "def create_index_matricies(max_level:int):\n",
    "    max_level = 3\n",
    "\n",
    "    return [np.arange(4**l).reshape((2**l, 2**l)).transpose() for l in range(max_level+1)]\n",
    "\n",
    "\n",
    "def get_children(parent_coords:Tuple[int]) -> List[Tuple[int]]:\n",
    "    x, y = parent_coords\n",
    "    return [\n",
    "        (x*2, y*2),\n",
    "        (x*2+1, y*2),\n",
    "        (x*2, y*2+1),\n",
    "        (x*2+1, y*2+1)\n",
    "    ]\n",
    "\n",
    "def parent(child_coords:Tuple[int]) -> Tuple[int]:\n",
    "    return (child_coords[0]//2, child_coords[1]//2)\n",
    "\n",
    "\n",
    "def nearest_neighbours(coords:Tuple[int], level:int) -> Set[Tuple[int]]:\n",
    "    if level == 0:\n",
    "        return set()\n",
    "\n",
    "    x,y = coords\n",
    "    max_coord = 2**level - 1\n",
    "    neighbours = set()\n",
    "\n",
    "    # middle row x_n = x\n",
    "    if y != 0:\n",
    "        neighbours.add((x,y-1))\n",
    "    if y != max_coord:\n",
    "        neighbours.add((x,y+1))\n",
    "\n",
    "    # left row x_n = x-1\n",
    "    if x !=0:\n",
    "        neighbours.add((x-1,y))\n",
    "        if y != 0:\n",
    "            neighbours.add((x-1,y-1))\n",
    "        if y != max_coord:\n",
    "            neighbours.add((x-1,y+1))\n",
    "\n",
    "    # right row x_n = x+1\n",
    "    if x != max_coord:\n",
    "        neighbours.add((x+1,y))\n",
    "        if y != 0:\n",
    "            neighbours.add((x+1,y-1))\n",
    "        if y != max_coord:\n",
    "            neighbours.add((x+1,y+1))\n",
    "    \n",
    "    return neighbours\n",
    "\n",
    "def interaction_list(cell_coords:Tuple[int], level:int) -> Set[Tuple[int]]:\n",
    "    if level <= 1:\n",
    "        return set()\n",
    "    \n",
    "    own_neighbours = nearest_neighbours(cell_coords, level)\n",
    "    parent_neighbours = nearest_neighbours(parent(cell_coords), level-1)\n",
    "    all_possible = set()\n",
    "    for p_n in parent_neighbours:\n",
    "        all_possible.update(get_children(p_n))\n",
    "\n",
    "    return all_possible - own_neighbours"
   ]
  },
  {
   "cell_type": "code",
   "execution_count": 3,
   "metadata": {},
   "outputs": [],
   "source": [
    "max_level = 3\n",
    "\n",
    "index_matricies = create_index_matricies(max_level)"
   ]
  },
  {
   "cell_type": "code",
   "execution_count": 4,
   "metadata": {},
   "outputs": [
    {
     "name": "stdout",
     "output_type": "stream",
     "text": [
      "1\n",
      "{3, 7, 8, 9, 10, 11, 12, 13, 14, 15}\n"
     ]
    },
    {
     "data": {
      "text/plain": [
       "[array([[0]]),\n",
       " array([[2, 3],\n",
       "        [0, 1]]),\n",
       " array([[12, 13, 14, 15],\n",
       "        [ 8,  9, 10, 11],\n",
       "        [ 4,  5,  6,  7],\n",
       "        [ 0,  1,  2,  3]]),\n",
       " array([[56, 57, 58, 59, 60, 61, 62, 63],\n",
       "        [48, 49, 50, 51, 52, 53, 54, 55],\n",
       "        [40, 41, 42, 43, 44, 45, 46, 47],\n",
       "        [32, 33, 34, 35, 36, 37, 38, 39],\n",
       "        [24, 25, 26, 27, 28, 29, 30, 31],\n",
       "        [16, 17, 18, 19, 20, 21, 22, 23],\n",
       "        [ 8,  9, 10, 11, 12, 13, 14, 15],\n",
       "        [ 0,  1,  2,  3,  4,  5,  6,  7]])]"
      ]
     },
     "execution_count": 4,
     "metadata": {},
     "output_type": "execute_result"
    }
   ],
   "source": [
    "cell = (1,0)\n",
    "print(index_matricies[2][cell])\n",
    "print({index_matricies[2][interactor] for interactor in interaction_list(cell,2)})\n",
    "\n",
    "# weirdness is to output as expected, ie in xy coordinates\n",
    "# [matrix for matrix in level_matricies]\n",
    "[np.flip(np.transpose(matrix), 0) for matrix in index_matricies]"
   ]
  },
  {
   "attachments": {},
   "cell_type": "markdown",
   "metadata": {},
   "source": [
    "# Actual FMM\n",
    "\n",
    "Create list of all the matricies of the various multipole and local expansions\n",
    "These will be 3D matricies with dimensions of $(2^l, 2^l, 2p)$ where $l$ is the level and $p$ is the global precision for each expansion"
   ]
  },
  {
   "cell_type": "code",
   "execution_count": 5,
   "metadata": {},
   "outputs": [],
   "source": [
    "from fmm import Particle"
   ]
  },
  {
   "cell_type": "code",
   "execution_count": 6,
   "metadata": {},
   "outputs": [],
   "source": [
    "def create_expansion_matricies(max_level:int, precision:int):\n",
    "    \"\"\"Returns a list of matricies for the expansion coefficients to be placed into\n",
    "    \n",
    "    For each 'cell' the first value also stores the complex centre of that cell\n",
    "    \"\"\"\n",
    "\n",
    "    expansion_matricies = [np.zeros((2**l,2**l,2*precision+1), dtype=complex) for l in range(max_level+1)]\n",
    "    for l, matrix in enumerate(expansion_matricies):\n",
    "        first_val = 1/(2**(l+1))\n",
    "        # stop of 1 as this is the so called max value, but will never appear\n",
    "        vals = np.arange(first_val,1,2*first_val)\n",
    "        X,Y = np.meshgrid(vals, vals, indexing='ij')\n",
    "        matrix[:,:,0] = X + 1j*Y\n",
    "    \n",
    "    return expansion_matricies\n",
    "\n",
    "def get_particle_cell(particle:Particle, level:int) -> Tuple[int]:\n",
    "    return (\n",
    "        int(particle.centre.real * 2**level),\n",
    "        int(particle.centre.imag * 2**level)\n",
    "    )"
   ]
  },
  {
   "cell_type": "code",
   "execution_count": 7,
   "metadata": {},
   "outputs": [],
   "source": [
    "def calculate_multipole(particle:Particle, cell:Tuple[int], precision:int, level:int, matrix) -> None:\n",
    "    \"\"\"Update the relevant cell in given level with multipole due to particle\n",
    "    \n",
    "    Parameters\n",
    "    ----------\n",
    "    particle : Particle\n",
    "        particle whose effect to add\n",
    "    cell : Tuple[int]\n",
    "        particles cell coords\n",
    "    precision : int\n",
    "        precision in multipole expansion\n",
    "    level : int\n",
    "        the level at which to add the particle's effect\n",
    "    matrix : NDArray\n",
    "        the full matrix for the relevant level\n",
    "    \"\"\"\n",
    "\n",
    "    matrix[cell][1] = particle.charge\n",
    "    k = np.arange(1,precision,1)\n",
    "    matrix[cell][2:precision+1] += -particle.charge * (particle.centre - matrix[cell[0],cell[1],0])**k / k\n",
    "\n",
    "def cell_M2M(cell:Tuple[int], child:Tuple[int], precision:int, matrix, children_matrix):\n",
    "    \"\"\"M2M from children for a single cell\"\"\"\n",
    "\n",
    "    child_multipole = children_matrix[child][1:precision+1]\n",
    "\n",
    "    matrix[cell][1] += child_multipole[0]\n",
    "\n",
    "    z0 = children_matrix[child][0] - matrix[cell][0]\n",
    "\n",
    "    for l in range(1,precision):\n",
    "        k = np.arange(1,l+1)\n",
    "        matrix[cell][l+1] += -(child_multipole[0] * z0**l / l) \\\n",
    "            + np.sum(child_multipole[1:l+1] \\\n",
    "                        * z0**(l-k) * sp.special.binom(l-1,k-1))\n",
    "\n",
    "def level_M2M(precision:int, level:int, matrix, children_matrix) -> None:\n",
    "    \"\"\"Perform M2M on a given level due to the multipoles in the child level\"\"\"\n",
    "    # Can definitely optimise the way this is done\n",
    "    for x in range(2**level):\n",
    "        for y in range(2**level):\n",
    "            for child in get_children((x,y)):\n",
    "                cell_M2M((x,y),child,precision,matrix,children_matrix)\n",
    "\n",
    "def cell_M2L(cell:Tuple[int], interactor:Tuple[int], precision:int, matrix) -> None:\n",
    "    \"\"\"Local expansion of a cell due to interactor\"\"\"\n",
    "\n",
    "    z0 = matrix[interactor][0] - matrix[cell][0] # local expansion 'about origin' (so about cell)\n",
    "\n",
    "    minus_and_plus = np.empty(precision-1)\n",
    "    minus_and_plus[::2] = -1\n",
    "    minus_and_plus[1::2] = 1\n",
    "\n",
    "    k_vals = np.arange(1, precision)\n",
    "    l_vals = np.arange(1, precision)\n",
    "\n",
    "    interactor_multipole = matrix[interactor][1:precision+1]\n",
    "\n",
    "    minus_bk_over_z0k = minus_and_plus * interactor_multipole[1:] / z0**k_vals\n",
    "\n",
    "    matrix[cell][precision+1] += interactor_multipole[0] * np.log(-z0) + np.sum(minus_bk_over_z0k)\n",
    "    matrix[cell][precision+2:] += -interactor_multipole[0] / (l_vals * z0**l_vals) \\\n",
    "                    + (1/z0**l_vals) * np.sum(minus_bk_over_z0k * sp.special.binom(l_vals[:,np.newaxis] + k_vals - 1, k_vals-1), axis=1)\n",
    "    \n",
    "def level_M2L(precision:int, level:int, matrix) -> None:\n",
    "    \"\"\"Do M2L for a given level\"\"\"\n",
    "\n",
    "    for x in range(2**level):\n",
    "        for y in range(2**level):\n",
    "            for interactor in interaction_list((x,y),level):\n",
    "                cell_M2L((x,y),interactor,precision,matrix)\n",
    "\n",
    "def cell_L2L(cell:Tuple[int], child:Tuple[int], precision:int, matrix, child_matrix) -> None:\n",
    "    \"\"\"Distribute local expansion to child cells\"\"\"\n",
    "    \n",
    "    z0 = child_matrix[child][0] - matrix[cell][0]\n",
    "\n",
    "    k_vals = np.arange(1,precision)\n",
    "    \n",
    "    cell_local = matrix[cell][precision+2:] # does not include l=0 of cell's local\n",
    "\n",
    "    for l in range(precision):\n",
    "        child_matrix[child][precision+1+l] += np.sum(cell_local * sp.special.binom(k_vals,l) * z0**(k_vals-l))\n",
    "\n",
    "def level_L2L(precision:int, level:int, matrix, child_matrix) -> None:\n",
    "    \"\"\"Distribute all locals in a given level to children level\"\"\"\n",
    "\n",
    "    for x in range(2**level):\n",
    "        for y in range(2**level):\n",
    "            for child in get_children((x,y)):\n",
    "                cell_L2L((x,y), child, precision, matrix, child_matrix)\n"
   ]
  },
  {
   "cell_type": "code",
   "execution_count": 71,
   "metadata": {},
   "outputs": [],
   "source": [
    "def insert_particles(finest_matrix, max_level, particles:List[Particle], precision:int) -> List[List[Set[Particle]]]:\n",
    "    finest_particles = [[set() for _ in range(2**max_level)] for _ in range(2**max_level)]\n",
    "    for particle in particles:\n",
    "        cell = get_particle_cell(particle, max_level)\n",
    "        calculate_multipole(particle, cell, precision, max_level, finest_matrix)\n",
    "        finest_particles[cell[0]][cell[1]].add(particle)\n",
    "    \n",
    "    return finest_particles\n",
    "\n",
    "def upward_pass(precision:int, max_level:int, expansion_matricies):\n",
    "    for level in range(max_level-1, -1, -1):\n",
    "        level_M2M(precision, level, expansion_matricies[level], expansion_matricies[level+1])\n",
    "\n",
    "def downward_pass(precision:int, max_level, expansion_matricies):\n",
    "    \"\"\"Perform downward pass\"\"\"\n",
    "    # first two levels have zero local, as no interaction list\n",
    "    # and don't want L2L for finest level\n",
    "    for level in range(2, max_level):\n",
    "        level_M2L(precision, level, expansion_matricies[level])\n",
    "        level_L2L(precision, level, expansion_matricies[level], expansion_matricies[level+1])\n",
    "    level_M2L(precision, max_level, expansion_matricies[max_level])\n",
    "\n",
    "def get_particle_potentials(precision:int, max_level:int, finest_particles:List[List[Set[Particle]]], finest_matrix):\n",
    "    for x, ys in enumerate(finest_particles):\n",
    "        for y, elem in enumerate(ys):\n",
    "            \n",
    "            if not finest_particles[x][y]:\n",
    "                continue\n",
    "\n",
    "            cell_centre = finest_matrix[x,y,0]\n",
    "            local = finest_matrix[x,y,precision+1:]\n",
    "            l_vals = np.arange(len(local))\n",
    "\n",
    "            near_particles = set()\n",
    "            for neighbour_set in [finest_particles[xn][yn] for xn,yn in nearest_neighbours((x,y), max_level)]:\n",
    "                near_particles.update(neighbour_set)\n",
    "            near_particles.update(elem)\n",
    "\n",
    "            for particle in elem:\n",
    "                # far field expansion contribution\n",
    "                z0 = particle.centre - cell_centre\n",
    "                particle.potential -= np.sum(local * z0**l_vals).real\n",
    "\n",
    "                # near-field\n",
    "                for other_particle in near_particles-{particle}:\n",
    "                    print(particle, other_particle)\n",
    "                    particle.potential -= other_particle.charge * np.log(abs(particle.centre-other_particle.centre))\n",
    "\n"
   ]
  },
  {
   "cell_type": "code",
   "execution_count": 9,
   "metadata": {},
   "outputs": [],
   "source": [
    "def direct_particle_potentials(particles:List[Particle]):\n",
    "    for particle in particles:\n",
    "        particle.direct_potential = 0.0\n",
    "\n",
    "    for i, particle in enumerate(particles):\n",
    "        for other in particles[i+1:]:\n",
    "            potential = - np.log(abs(particle.centre-other.centre))\n",
    "            particle.direct_potential += other.charge * potential\n",
    "            other.direct_potential += particle.charge * potential"
   ]
  },
  {
   "cell_type": "code",
   "execution_count": 65,
   "metadata": {},
   "outputs": [],
   "source": [
    "max_level = 2\n",
    "precision = 4\n",
    "num_particles = 4\n",
    "\n",
    "expansion_matricies = create_expansion_matricies(max_level, precision)\n",
    "\n",
    "particles = [Particle() for _ in range(num_particles)]\n",
    "# particles = [\n",
    "#     Particle(2, 0.15+0.2j),\n",
    "#     Particle(-1, 0.9+0.8j)\n",
    "# ]"
   ]
  },
  {
   "cell_type": "code",
   "execution_count": 72,
   "metadata": {},
   "outputs": [
    {
     "name": "stdout",
     "output_type": "stream",
     "text": [
      "Particle: (0.006360597322628059+0.23280624779175296j), charge -0.10801106503445146 Particle: (0.2314131712801778+0.468863361581512j), charge 0.6933185296551874\n",
      "Particle: (0.2314131712801778+0.468863361581512j), charge 0.6933185296551874 Particle: (0.006360597322628059+0.23280624779175296j), charge -0.10801106503445146\n",
      "Particle: (0.02398802725473781+0.8403820883507621j), charge -0.8603876116026914 Particle: (0.11440433144495088+0.9487335824870944j), charge -0.8745121237956852\n",
      "Particle: (0.11440433144495088+0.9487335824870944j), charge -0.8745121237956852 Particle: (0.02398802725473781+0.8403820883507621j), charge -0.8603876116026914\n"
     ]
    }
   ],
   "source": [
    "finest_particles = insert_particles(expansion_matricies[max_level], max_level, particles, precision)\n",
    "upward_pass(precision, max_level, expansion_matricies)\n",
    "downward_pass(precision, max_level, expansion_matricies)\n",
    "get_particle_potentials(precision, max_level, finest_particles, expansion_matricies[max_level])"
   ]
  },
  {
   "cell_type": "code",
   "execution_count": 69,
   "metadata": {},
   "outputs": [
    {
     "name": "stdout",
     "output_type": "stream",
     "text": [
      "[(0.2314131712801778+0.468863361581512j), (0.11440433144495088+0.9487335824870944j), (0.02398802725473781+0.8403820883507621j), (0.006360597322628059+0.23280624779175296j)]\n",
      "Dir: [-1.473054537391954, -1.2305948627517738, -1.1737569457465096, 0.06605465869681981]\n",
      "FMM: [-1.8603957737357852, -1.915163400293837, -1.7515280516653398, 0.5662311489314553]\n",
      "Err: [-0.38734123634383133, -0.6845685375420631, -0.5777711059188302, 0.5001764902346355]\n",
      "[True, True, True, True]\n"
     ]
    }
   ],
   "source": [
    "direct_particle_potentials(particles)\n",
    "\n",
    "potentials = [particle.potential for particle in particles]\n",
    "direct_potentials = [particle.direct_potential for particle in particles]\n",
    "\n",
    "potential_err = list(np.array(potentials) - np.array(direct_potentials))\n",
    "\n",
    "print([particle.centre for particle in particles])\n",
    "print('Dir:', direct_potentials)\n",
    "print('FMM:', potentials)\n",
    "print('Err:', potential_err)\n",
    "print([abs(err) > 1e-4 for err in potential_err])"
   ]
  },
  {
   "cell_type": "code",
   "execution_count": 70,
   "metadata": {},
   "outputs": [
    {
     "data": {
      "image/png": "[encoded data removed]",
      "text/plain": [
       "<Figure size 640x480 with 1 Axes>"
      ]
     },
     "metadata": {},
     "output_type": "display_data"
    }
   ],
   "source": [
    "import matplotlib.pyplot as plt\n",
    "\n",
    "X = [particle.centre.real for particle in particles]\n",
    "Y = [particle.centre.imag for particle in particles]\n",
    "ticks = np.arange(0,1,2*expansion_matricies[max_level][0,0,0].real)\n",
    "\n",
    "fig, ax = plt.subplots()\n",
    "ax.plot(X,Y, 'o')\n",
    "ax.set_aspect('equal')\n",
    "ax.set_xlim(0,1)\n",
    "ax.set_ylim(0,1)\n",
    "ax.set_xticks(ticks, minor=True)\n",
    "ax.set_yticks(ticks, minor=True)\n",
    "ax.grid(True, 'minor')\n",
    "plt.show()"
   ]
  },
  {
   "cell_type": "code",
   "execution_count": 13,
   "metadata": {},
   "outputs": [
    {
     "data": {
      "text/plain": [
       "(array([ 2.000e+00+0.j        ,  3.000e-02-0.19j      ,\n",
       "         8.800e-03+0.00285j   , -2.685e-04+0.00052883j]),\n",
       " array([-1.50000e+00+0.j        ,  8.25000e-02-0.0975j    ,\n",
       "        -9.00000e-04-0.0053625j , -2.65375e-04-0.00015763j]))"
      ]
     },
     "execution_count": 13,
     "metadata": {},
     "output_type": "execute_result"
    }
   ],
   "source": [
    "particles = [\n",
    "    Particle(2,(0.11+0.22j)),\n",
    "    Particle(-1.5, (0.93+0.81j))\n",
    "]\n",
    "\n",
    "precision = 4\n",
    "max_level = 2\n",
    "\n",
    "expansion_matricies = create_expansion_matricies(max_level, precision)\n",
    "\n",
    "finest_particles = insert_particles(expansion_matricies[max_level], max_level, particles, precision)\n",
    "\n",
    "upward_pass(precision, max_level, expansion_matricies)\n",
    "\n",
    "expansion_matricies[-1][0,0,1:precision+1], expansion_matricies[-1][3,3,1:precision+1]"
   ]
  },
  {
   "cell_type": "code",
   "execution_count": 14,
   "metadata": {},
   "outputs": [
    {
     "data": {
      "text/plain": [
       "(array([ 2.00000000e+00+0.j      ,  2.80000000e-01+0.06j    ,\n",
       "        -1.87000000e-02-0.0084j  ,  1.57733333e-03+0.001158j]),\n",
       " array([-1.5     +0.j      ,  0.27    +0.09j    ,  0.0216  +0.0162j  ,\n",
       "         0.001944+0.002808j]),\n",
       " array([ 0.5     +0.j        ,  1.425   +1.025j     ,\n",
       "        -0.0071  -0.01845j   , -0.043837+0.14162433j]))"
      ]
     },
     "execution_count": 14,
     "metadata": {},
     "output_type": "execute_result"
    }
   ],
   "source": [
    "expansion_matricies[1][0,0,1:precision+1], expansion_matricies[1][1,1,1:precision+1], expansion_matricies[0][0,0,1:precision+1]"
   ]
  },
  {
   "cell_type": "code",
   "execution_count": 15,
   "metadata": {},
   "outputs": [
    {
     "data": {
      "text/plain": [
       "(array([-0.0831678 +3.65484107j,  1.08074874-0.91961807j,\n",
       "         0.10746311-0.6625039j , -0.2190231 -0.36206705j]),\n",
       " array([ 0.0141222 +1.41615317j,  1.50863763-1.29160573j,\n",
       "        -0.15205241+0.97442818j, -0.34309736-0.55583605j]))"
      ]
     },
     "execution_count": 15,
     "metadata": {},
     "output_type": "execute_result"
    }
   ],
   "source": [
    "downward_pass(precision, max_level, expansion_matricies)\n",
    "\n",
    "expansion_matricies[-1][0,0,precision+1:], expansion_matricies[-1][3,3,precision+1:]"
   ]
  },
  {
   "cell_type": "code",
   "execution_count": 16,
   "metadata": {},
   "outputs": [
    {
     "data": {
      "text/plain": [
       "[(-0.015224542072767822+3.7768581521370224j),\n",
       " (0.0202993894303571+1.2473744376635567j)]"
      ]
     },
     "execution_count": 16,
     "metadata": {},
     "output_type": "execute_result"
    }
   ],
   "source": [
    "get_particle_potentials(precision, max_level, finest_particles, expansion_matricies[max_level])\n",
    "[particle.potential for particle in particles]"
   ]
  },
  {
   "cell_type": "code",
   "execution_count": 17,
   "metadata": {},
   "outputs": [
    {
     "data": {
      "text/plain": [
       "[array([[0.5+0.5j]]),\n",
       " array([[0.25+0.75j, 0.75+0.75j],\n",
       "        [0.25+0.25j, 0.75+0.25j]]),\n",
       " array([[0.125+0.875j, 0.375+0.875j, 0.625+0.875j, 0.875+0.875j],\n",
       "        [0.125+0.625j, 0.375+0.625j, 0.625+0.625j, 0.875+0.625j],\n",
       "        [0.125+0.375j, 0.375+0.375j, 0.625+0.375j, 0.875+0.375j],\n",
       "        [0.125+0.125j, 0.375+0.125j, 0.625+0.125j, 0.875+0.125j]]),\n",
       " array([[0.0625+0.9375j, 0.1875+0.9375j, 0.3125+0.9375j, 0.4375+0.9375j,\n",
       "         0.5625+0.9375j, 0.6875+0.9375j, 0.8125+0.9375j, 0.9375+0.9375j],\n",
       "        [0.0625+0.8125j, 0.1875+0.8125j, 0.3125+0.8125j, 0.4375+0.8125j,\n",
       "         0.5625+0.8125j, 0.6875+0.8125j, 0.8125+0.8125j, 0.9375+0.8125j],\n",
       "        [0.0625+0.6875j, 0.1875+0.6875j, 0.3125+0.6875j, 0.4375+0.6875j,\n",
       "         0.5625+0.6875j, 0.6875+0.6875j, 0.8125+0.6875j, 0.9375+0.6875j],\n",
       "        [0.0625+0.5625j, 0.1875+0.5625j, 0.3125+0.5625j, 0.4375+0.5625j,\n",
       "         0.5625+0.5625j, 0.6875+0.5625j, 0.8125+0.5625j, 0.9375+0.5625j],\n",
       "        [0.0625+0.4375j, 0.1875+0.4375j, 0.3125+0.4375j, 0.4375+0.4375j,\n",
       "         0.5625+0.4375j, 0.6875+0.4375j, 0.8125+0.4375j, 0.9375+0.4375j],\n",
       "        [0.0625+0.3125j, 0.1875+0.3125j, 0.3125+0.3125j, 0.4375+0.3125j,\n",
       "         0.5625+0.3125j, 0.6875+0.3125j, 0.8125+0.3125j, 0.9375+0.3125j],\n",
       "        [0.0625+0.1875j, 0.1875+0.1875j, 0.3125+0.1875j, 0.4375+0.1875j,\n",
       "         0.5625+0.1875j, 0.6875+0.1875j, 0.8125+0.1875j, 0.9375+0.1875j],\n",
       "        [0.0625+0.0625j, 0.1875+0.0625j, 0.3125+0.0625j, 0.4375+0.0625j,\n",
       "         0.5625+0.0625j, 0.6875+0.0625j, 0.8125+0.0625j, 0.9375+0.0625j]])]"
      ]
     },
     "execution_count": 17,
     "metadata": {},
     "output_type": "execute_result"
    }
   ],
   "source": [
    "expansion_matricies = create_expansion_matricies(3,4)\n",
    "centres = [matrix[:,:,0] for matrix in expansion_matricies]\n",
    "\n",
    "cell = (0,1)\n",
    "expansion_matricies[1][cell[0], cell[1], 2:5]\n",
    "\n",
    "[np.flip(np.transpose(matrix), 0) for matrix in centres]"
   ]
  }
 ],
 "metadata": {
  "kernelspec": {
   "display_name": "python-3.10.10",
   "language": "python",
   "name": "python3"
  },
  "language_info": {
   "codemirror_mode": {
    "name": "ipython",
    "version": 3
   },
   "file_extension": ".py",
   "mimetype": "text/x-python",
   "name": "python",
   "nbconvert_exporter": "python",
   "pygments_lexer": "ipython3",
   "version": "3.10.10"
  },
  "orig_nbformat": 4
 },
 "nbformat": 4,
 "nbformat_minor": 2
}
