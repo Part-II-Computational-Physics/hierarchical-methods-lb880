{
 "cells": [
  {
   "cell_type": "code",
   "execution_count": 5,
   "metadata": {},
   "outputs": [],
   "source": [
    "import numpy as np\n",
    "import matplotlib.pyplot as plt\n",
    "\n",
    "np.random.seed(0)"
   ]
  },
  {
   "cell_type": "code",
   "execution_count": 2,
   "metadata": {},
   "outputs": [],
   "source": [
    "from packages import fmm, general"
   ]
  },
  {
   "cell_type": "code",
   "execution_count": 26,
   "metadata": {},
   "outputs": [
    {
     "data": {
      "text/plain": [
       "966.246490273677"
      ]
     },
     "execution_count": 26,
     "metadata": {},
     "output_type": "execute_result"
    }
   ],
   "source": [
    "np.random.seed(0)\n",
    "\n",
    "num_particles = 1000\n",
    "precision = 4\n",
    "\n",
    "particles = [general.Particle(1) for _ in range(num_particles)]\n",
    "\n",
    "fmm_method = fmm.FMM(particles, precision)\n",
    "fmm_method.do_fmm(True, True, True)\n",
    "particles[0].potential"
   ]
  },
  {
   "cell_type": "code",
   "execution_count": 24,
   "metadata": {},
   "outputs": [
    {
     "data": {
      "text/plain": [
       "(-179658.269090678-49134.28726912087j)"
      ]
     },
     "execution_count": 24,
     "metadata": {},
     "output_type": "execute_result"
    }
   ],
   "source": [
    "np.sum(fmm_method.levels[-1].array[:,:,precision+1:])"
   ]
  },
  {
   "cell_type": "code",
   "execution_count": 6,
   "metadata": {},
   "outputs": [
    {
     "name": "stdout",
     "output_type": "stream",
     "text": [
      "[0.5488135 +0.71518937j 0.54488318+0.4236548j  0.43758721+0.891773j\n",
      " 0.38344152+0.79172504j 0.56804456+0.92559664j 0.0871293 +0.0202184j\n",
      " 0.77815675+0.87001215j 0.79915856+0.46147936j 0.11827443+0.63992102j\n",
      " 0.94466892+0.52184832j]\n"
     ]
    },
    {
     "data": {
      "image/png": "[encoded data removed]",
      "text/plain": [
       "<Figure size 640x480 with 1 Axes>"
      ]
     },
     "metadata": {},
     "output_type": "display_data"
    }
   ],
   "source": [
    "print(np.array([particle.centre for particle in particles]))\n",
    "\n",
    "fig,ax = plt.subplots()\n",
    "ax.set_aspect('equal')\n",
    "ax.set_xlim(0,1)\n",
    "ax.set_ylim(0,1)\n",
    "\n",
    "points = [particle.centre for particle in particles]\n",
    "X,Y = np.real(points), np.imag(points)\n",
    "\n",
    "ax.scatter(X,Y)\n",
    "\n",
    "# first_val = 1 / (2**(int(self.max_level/2)))\n",
    "# # stop of 1 as this is the so called max value, but will never appear\n",
    "# ticks = np.arange(first_val, 1, first_val)\n",
    "# ax.set_xticks(ticks, minor=True)\n",
    "# ax.set_yticks(ticks, minor=True)\n",
    "# ax.grid(True, 'minor')\n",
    "\n",
    "plt.show()"
   ]
  },
  {
   "cell_type": "code",
   "execution_count": 1,
   "metadata": {},
   "outputs": [],
   "source": [
    "import numpy as np\n",
    "\n",
    "from packages import bh, general"
   ]
  },
  {
   "cell_type": "code",
   "execution_count": 2,
   "metadata": {},
   "outputs": [],
   "source": [
    "np.random.seed(0)\n",
    "\n",
    "particles = [general.Particle() for _ in range(10)]\n",
    "\n",
    "general.pairwise.potentials(particles, True)\n",
    "dir_pot = np.array([p.direct_potential for p in particles])\n",
    "\n",
    "bh_method = bh.BH(particles, 0.5, 4)\n",
    "bh_method.do_bh(True)\n",
    "bh_pot = np.array([p.potential for p in particles])\n",
    "\n",
    "diff = bh_pot - dir_pot"
   ]
  },
  {
   "cell_type": "code",
   "execution_count": 3,
   "metadata": {},
   "outputs": [
    {
     "name": "stdout",
     "output_type": "stream",
     "text": [
      "[ 1.77618543  1.46548391 -0.38503705  1.79017718  3.72685008 -0.05757395\n",
      "  0.22718745  1.02332332  1.57473244  2.20095041]\n",
      "[ 1.77618543  1.46567173 -0.38511703  1.7899441   3.72678591 -0.05757756\n",
      "  0.22734182  1.02334579  1.5748343   2.20097444]\n",
      "[-2.22044605e-16  1.87819467e-04 -7.99793706e-05 -2.33078124e-04\n",
      " -6.41658577e-05 -3.60678729e-06  1.54365935e-04  2.24634352e-05\n",
      "  1.01855832e-04  2.40328191e-05]\n"
     ]
    }
   ],
   "source": [
    "print(dir_pot)\n",
    "print(bh_pot)\n",
    "print(diff)"
   ]
  },
  {
   "cell_type": "code",
   "execution_count": 2,
   "metadata": {},
   "outputs": [],
   "source": [
    "import numpy as np"
   ]
  },
  {
   "cell_type": "code",
   "execution_count": 3,
   "metadata": {},
   "outputs": [],
   "source": [
    "def full(z0: complex):\n",
    "    return z0/abs(z0)**2\n",
    "\n",
    "def conj(z0: complex):\n",
    "    return (1/z0).conjugate"
   ]
  },
  {
   "cell_type": "code",
   "execution_count": 4,
   "metadata": {},
   "outputs": [],
   "source": [
    "np.random.seed(0)"
   ]
  },
  {
   "cell_type": "code",
   "execution_count": 5,
   "metadata": {},
   "outputs": [
    {
     "name": "stdout",
     "output_type": "stream",
     "text": [
      "845 ns ± 15.1 ns per loop (mean ± std. dev. of 7 runs, 1,000,000 loops each)\n"
     ]
    }
   ],
   "source": [
    "%%timeit\n",
    "z0 = np.random.random() + 1j*np.random.random()\n",
    "full(z0)"
   ]
  },
  {
   "cell_type": "code",
   "execution_count": 6,
   "metadata": {},
   "outputs": [],
   "source": [
    "np.random.seed(0)"
   ]
  },
  {
   "cell_type": "code",
   "execution_count": 7,
   "metadata": {},
   "outputs": [
    {
     "name": "stdout",
     "output_type": "stream",
     "text": [
      "832 ns ± 8.82 ns per loop (mean ± std. dev. of 7 runs, 1,000,000 loops each)\n"
     ]
    }
   ],
   "source": [
    "%%timeit\n",
    "z0 = np.random.random() + 1j*np.random.random()\n",
    "conj(z0)"
   ]
  }
 ],
 "metadata": {
  "kernelspec": {
   "display_name": "python-3.10.10",
   "language": "python",
   "name": "python3"
  },
  "language_info": {
   "codemirror_mode": {
    "name": "ipython",
    "version": 3
   },
   "file_extension": ".py",
   "mimetype": "text/x-python",
   "name": "python",
   "nbconvert_exporter": "python",
   "pygments_lexer": "ipython3",
   "version": "3.10.10"
  },
  "orig_nbformat": 4
 },
 "nbformat": 4,
 "nbformat_minor": 2
}
