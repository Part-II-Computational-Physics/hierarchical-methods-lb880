{
 "cells": [
  {
   "cell_type": "code",
   "execution_count": 152,
   "metadata": {},
   "outputs": [],
   "source": [
    "import numpy as np\n",
    "from scipy.special import binom"
   ]
  },
  {
   "cell_type": "code",
   "execution_count": 153,
   "metadata": {},
   "outputs": [],
   "source": [
    "q1 = 2\n",
    "pos1 = 0.11+0.22j\n",
    "q2 = -1.5\n",
    "pos2 = 0.93+0.81j\n",
    "\n",
    "p = 4"
   ]
  },
  {
   "cell_type": "code",
   "execution_count": 154,
   "metadata": {},
   "outputs": [
    {
     "data": {
      "text/plain": [
       "([2, (0.03-0.19j), (0.0088+0.00285j), (-0.0002685+0.0005288333333333333j)],\n",
       " [-1.5,\n",
       "  (0.08250000000000007-0.09749999999999992j),\n",
       "  (-0.0008999999999999903-0.0053625j),\n",
       "  (-0.0002653749999999995-0.00015762500000000065j)])"
      ]
     },
     "execution_count": 154,
     "metadata": {},
     "output_type": "execute_result"
    }
   ],
   "source": [
    "# gen multipole\n",
    "l0_a = [q1]\n",
    "for k in range(1,p):\n",
    "    l0_a.append(-q1 * (pos1-(0.125+0.125j))**k / k)\n",
    "\n",
    "l15_a = [q2]\n",
    "for k in range(1,p):\n",
    "    l15_a.append(-q2 * (pos2-(0.875+0.875j))**k / k)\n",
    "\n",
    "l0_a, l15_a"
   ]
  },
  {
   "cell_type": "code",
   "execution_count": 155,
   "metadata": {},
   "outputs": [
    {
     "data": {
      "text/plain": [
       "([2,\n",
       "  (0.28+0.06j),\n",
       "  (-0.0187-0.0084j),\n",
       "  (0.0015773333333333334+0.0011579999999999997j)],\n",
       " [-1.5,\n",
       "  (0.2700000000000001+0.09000000000000008j),\n",
       "  (0.021600000000000008+0.01620000000000002j),\n",
       "  (0.0019440000000000004+0.002808000000000004j)])"
      ]
     },
     "execution_count": 155,
     "metadata": {},
     "output_type": "execute_result"
    }
   ],
   "source": [
    "# M2M to level 1\n",
    "m0_b = [l0_a[0]]\n",
    "for l in range(1,p):\n",
    "    bl = -l0_a[0] * ((0.125+0.125j) - (0.25+0.25j))**l / l\n",
    "    for k in range(1,l+1):\n",
    "        bl += l0_a[k] * ((0.125+0.125j) - (0.25+0.25j))**(l-k) * binom(l-1,k-1)\n",
    "    m0_b.append(bl)\n",
    "\n",
    "m3_b = [l15_a[0]]\n",
    "for l in range(1,p):\n",
    "    bl = -l15_a[0] * ((0.875+0.875j) - (0.75+0.75j))**l / l\n",
    "    for k in range(1,l+1):\n",
    "        bl += l15_a[k] * ((0.875+0.875j) - (0.75+0.75j))**(l-k) * binom(l-1,k-1)\n",
    "    m3_b.append(bl)\n",
    "\n",
    "m0_b, m3_b"
   ]
  },
  {
   "cell_type": "code",
   "execution_count": 156,
   "metadata": {},
   "outputs": [
    {
     "data": {
      "text/plain": [
       "[0.5,\n",
       " (1.425+1.0250000000000001j),\n",
       " (-0.007100000000000002-0.018449999999999946j),\n",
       " (-0.04383700000000001+0.14162433333333338j)]"
      ]
     },
     "execution_count": 156,
     "metadata": {},
     "output_type": "execute_result"
    }
   ],
   "source": [
    "# M2M to level 0\n",
    "n_b = [m0_b[0] + m3_b[0]]\n",
    "for l in range(1,p):\n",
    "    bl = -m0_b[0] * ((0.25+0.25j) - (0.5+0.5j))**l / l\n",
    "    bl -= m3_b[0] * ((0.75+0.75j) - (0.5+0.5j))**l / l\n",
    "    for k in range(1,l+1):\n",
    "        bl += m0_b[k] * ((0.25+0.25j) - (0.5+0.5j))**(l-k) * binom(l-1,k-1)\n",
    "        bl += m3_b[k] * ((0.75+0.75j) - (0.5+0.5j))**(l-k) * binom(l-1,k-1)\n",
    "    n_b.append(bl)\n",
    "\n",
    "n_b"
   ]
  },
  {
   "cell_type": "code",
   "execution_count": 157,
   "metadata": {},
   "outputs": [
    {
     "data": {
      "text/plain": [
       "([(-0.08316779526080624+3.6548410686218507j),\n",
       "  (1.0807487407407406-0.919618074074074j),\n",
       "  (0.10746311111111106-0.6625039012345678j),\n",
       "  (-0.2190231001371742-0.36206705075445805j)],\n",
       " [(0.014122196150210637+1.4161531663010694j),\n",
       "  (1.5086376296296296-1.2916057283950617j),\n",
       "  (-0.15205241152263374+0.9744281810699588j),\n",
       "  (-0.34309735711019657-0.555836049382716j)])"
      ]
     },
     "execution_count": 157,
     "metadata": {},
     "output_type": "execute_result"
    }
   ],
   "source": [
    "# M2L for interaction list\n",
    "\n",
    "z0 = (0.875+0.875j) - (0.125+0.125j)\n",
    "l0_c = [l15_a[0] * np.log(-z0)]\n",
    "for k in range(1,p):\n",
    "    l0_c[0] += (-1)**k * l15_a[k] / z0**k\n",
    "\n",
    "for l in range(1,p):\n",
    "    cl = -l15_a[0] / (l * z0**l)\n",
    "    term = 0\n",
    "    for k in range(1,p):\n",
    "        term += ((-1)**k * l15_a[k] / z0**k) * binom(l+k-1, k-1)\n",
    "    cl += (1/z0**l) * term\n",
    "    l0_c.append(cl)\n",
    "\n",
    "\n",
    "z0 = -z0\n",
    "l15_c = [l0_a[0] * np.log(-z0)]\n",
    "for k in range(1,p):\n",
    "    l15_c[0] += (-1)**k * l0_a[k] / z0**k\n",
    "    \n",
    "for l in range(1,p):\n",
    "    cl = -l0_a[0] / (l * z0**l)\n",
    "    term = 0\n",
    "    for k in range(1,p):\n",
    "        term += ((-1)**k * l0_a[k] / z0**k) * binom(l+k-1, k-1)\n",
    "    cl += (1/z0**l) * term\n",
    "    l15_c.append(cl)\n",
    "\n",
    "l0_c, l15_c"
   ]
  },
  {
   "cell_type": "code",
   "execution_count": 158,
   "metadata": {},
   "outputs": [
    {
     "data": {
      "text/plain": [
       "((-0.015224542072767836+3.7768581521370224j),\n",
       " (0.020299389430357088+1.2473744376635567j))"
      ]
     },
     "execution_count": 158,
     "metadata": {},
     "output_type": "execute_result"
    }
   ],
   "source": [
    "# evaluate particle potential\n",
    "\n",
    "pot1 = 0\n",
    "for l in range(p):\n",
    "    pot1 += l0_c[l] * (pos1 - (0.125+0.125j))**l\n",
    "\n",
    "pot2 = 0\n",
    "for l in range(p):\n",
    "    pot2 += l15_c[l] * (pos2 - (0.875+0.875j))**l\n",
    "\n",
    "pot1, pot2"
   ]
  },
  {
   "cell_type": "code",
   "execution_count": 159,
   "metadata": {},
   "outputs": [
    {
     "data": {
      "text/plain": [
       "(-0.015219527450822064, 0.02029270326776275)"
      ]
     },
     "execution_count": 159,
     "metadata": {},
     "output_type": "execute_result"
    }
   ],
   "source": [
    "dir1 = q2 * np.log(abs(pos1-pos2))\n",
    "dir2 = q1 * np.log(abs(pos1-pos2))\n",
    "\n",
    "dir1, dir2"
   ]
  },
  {
   "cell_type": "code",
   "execution_count": 160,
   "metadata": {},
   "outputs": [
    {
     "data": {
      "text/plain": [
       "(-5.014621945772027e-06, 6.686162594336104e-06)"
      ]
     },
     "execution_count": 160,
     "metadata": {},
     "output_type": "execute_result"
    }
   ],
   "source": [
    "pot1.real-dir1, pot2.real-dir2"
   ]
  },
  {
   "cell_type": "code",
   "execution_count": 165,
   "metadata": {},
   "outputs": [],
   "source": [
    "def book_M2L(cell_centre, interactor_centre, interactor_expansion, p):\n",
    "    cell_expansion = np.zeros(p, dtype=complex)\n",
    "\n",
    "    z0 = interactor_centre - cell_centre\n",
    "\n",
    "    cell_expansion[0] = interactor_expansion[0] * np.log(-z0)\n",
    "\n",
    "    for k in range(1,p):\n",
    "        cell_expansion[0] += (-1)**k * interactor_expansion[k] / z0**k\n",
    "\n",
    "    for l in range(1,p):\n",
    "        cl = -interactor_expansion[0] / (l * z0**l)\n",
    "        term = 0\n",
    "        for k in range(1,p):\n",
    "            term += ((-1)**k * l15_a[k] / z0**k) * binom(l+k-1, k-1)\n",
    "        cl += (1/z0**l) * term\n",
    "        cell_expansion[l] = cl\n",
    "    \n",
    "    return cell_expansion"
   ]
  },
  {
   "cell_type": "code",
   "execution_count": 192,
   "metadata": {},
   "outputs": [],
   "source": [
    "\n",
    "def cell_M2L(cell_centre, interactor_centre, interactor_expansion, p):\n",
    "    cell_expansion = np.zeros(p, dtype=complex)\n",
    "\n",
    "    z0 = interactor_centre - cell_centre # local expansion 'about origin' (so about cell)\n",
    "\n",
    "    minus_and_plus = np.empty(p-1)\n",
    "    minus_and_plus[::2] = -1\n",
    "    minus_and_plus[1::2] = 1\n",
    "\n",
    "    k_vals = np.arange(1, p)\n",
    "    l_vals = np.arange(1, p)\n",
    "\n",
    "    interactor_multipole = interactor_expansion\n",
    "\n",
    "    minus_bk_over_z0k = minus_and_plus * interactor_multipole[1:] / z0**k_vals\n",
    "\n",
    "    cell_expansion[0] += interactor_multipole[0] * np.log(-z0) + np.sum(minus_bk_over_z0k)\n",
    "\n",
    "    cell_expansion[1:] += - interactor_multipole[0] / (l_vals * z0**l_vals) \\\n",
    "                    + (1/z0**l_vals) * np.sum(minus_bk_over_z0k * binom(l_vals[:,np.newaxis] + k_vals - 1, k_vals-1), axis=1)\n",
    "    \n",
    "    return cell_expansion"
   ]
  },
  {
   "cell_type": "code",
   "execution_count": 193,
   "metadata": {},
   "outputs": [
    {
     "data": {
      "text/plain": [
       "(array([-0.0831678 +3.65484107j,  1.08074874-0.91961807j,\n",
       "         0.10746311-0.6625039j , -0.2190231 -0.36206705j]),\n",
       " array([-0.0831678 +3.65484107j,  1.08074874-0.91961807j,\n",
       "         0.10746311-0.6625039j , -0.2190231 -0.36206705j]),\n",
       " array([-0.0831678 +3.65484107j,  1.08074874-0.91961807j,\n",
       "         0.10746311-0.6625039j , -0.2190231 -0.36206705j]))"
      ]
     },
     "execution_count": 193,
     "metadata": {},
     "output_type": "execute_result"
    }
   ],
   "source": [
    "\n",
    "np.array(l0_c), \\\n",
    "book_M2L(0.125+0.125j, 0.875+0.875j, np.array(l15_a),p), \\\n",
    "cell_M2L(0.125+0.125j, 0.875+0.875j, np.array(l15_a),p)"
   ]
  },
  {
   "cell_type": "code",
   "execution_count": 191,
   "metadata": {},
   "outputs": [
    {
     "data": {
      "text/plain": [
       "((-0.019341777777777677-0.11764800000000002j),\n",
       " array([-0.01934178-0.117648j  , -0.02391689-0.116096j  ,\n",
       "        -0.02842815-0.11429333j]))"
      ]
     },
     "execution_count": 191,
     "metadata": {},
     "output_type": "execute_result"
    }
   ],
   "source": [
    "minus_and_plus = np.empty(p-1)\n",
    "minus_and_plus[::2] = -1\n",
    "minus_and_plus[1::2] = 1\n",
    "\n",
    "k_vals = np.arange(1, p)\n",
    "l_vals = np.arange(1, p)\n",
    "\n",
    "interactor_multipole = np.array(l15_a)\n",
    "minus_bk_over_z0k = minus_and_plus * interactor_multipole[1:] / z0**k_vals\n",
    "\n",
    "nump = np.sum(minus_bk_over_z0k * binom(l_vals[:,np.newaxis] + k_vals - 1, k_vals-1), axis=1)\n",
    "\n",
    "l=1\n",
    "term = 0\n",
    "for k in range(1,p):\n",
    "    term += ((-1)**k * l15_a[k] / z0**k) * binom(l+k-1, k-1)\n",
    "\n",
    "term, nump"
   ]
  }
 ],
 "metadata": {
  "kernelspec": {
   "display_name": "python-3.10.10",
   "language": "python",
   "name": "python3"
  },
  "language_info": {
   "codemirror_mode": {
    "name": "ipython",
    "version": 3
   },
   "file_extension": ".py",
   "mimetype": "text/x-python",
   "name": "python",
   "nbconvert_exporter": "python",
   "pygments_lexer": "ipython3",
   "version": "3.10.10"
  },
  "orig_nbformat": 4
 },
 "nbformat": 4,
 "nbformat_minor": 2
}
